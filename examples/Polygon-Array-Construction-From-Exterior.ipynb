{
 "cells": [
  {
   "cell_type": "markdown",
   "source": [
    "# Constructing PolygonArray and MultiPolygonArray From Exterior Coordinates"
   ],
   "metadata": {
    "collapsed": false
   },
   "id": "2cd5cfcaaec15924"
  },
  {
   "cell_type": "code",
   "execution_count": 1,
   "outputs": [],
   "source": [
    "import numpy as np\n",
    "\n",
    "from shapely import Polygon, MultiPolygon\n",
    "from spatialpandas.geometry import PolygonArray, MultiPolygonArray"
   ],
   "metadata": {
    "collapsed": false,
    "ExecuteTime": {
     "end_time": "2023-11-08T07:57:35.096454900Z",
     "start_time": "2023-11-08T07:57:33.981231200Z"
    }
   },
   "id": "3abb9112543deeed"
  },
  {
   "cell_type": "code",
   "execution_count": 2,
   "id": "initial_id",
   "metadata": {
    "collapsed": true,
    "ExecuteTime": {
     "end_time": "2023-11-08T07:57:35.102489200Z",
     "start_time": "2023-11-08T07:57:35.098406800Z"
    }
   },
   "outputs": [],
   "source": [
    "polygon_shell = np.array([[89.97223, -58.302593],\n",
    "                          [89.98285, -58.29493],\n",
    "                          [89.97226, -58.27778],\n",
    "                          [89.95511, -58.27485],\n",
    "                          [89.92737, -58.28543],\n",
    "                          [89.93793, -58.30258],\n",
    "                          [89.97223, -58.302593]])"
   ]
  },
  {
   "cell_type": "code",
   "execution_count": 3,
   "outputs": [
    {
     "data": {
      "text/plain": "<POLYGON ((90 -58.3, 90 -58.3, 90 -58.3, 90 -58.3, 89.9 -58.3, 89.9 -58.3, 9...>",
      "image/svg+xml": "<svg xmlns=\"http://www.w3.org/2000/svg\" xmlns:xlink=\"http://www.w3.org/1999/xlink\" width=\"100.0\" height=\"100.0\" viewBox=\"89.9251508 -58.3048122 0.059918400000000815 0.032181399999998916\" preserveAspectRatio=\"xMinYMin meet\"><g transform=\"matrix(1,0,0,-1,0,-116.577443)\"><path fill-rule=\"evenodd\" fill=\"#66cc99\" stroke=\"#555555\" stroke-width=\"0.0011983680000000163\" opacity=\"0.6\" d=\"M 89.97223,-58.302593 L 89.98285,-58.29493 L 89.97226,-58.27778 L 89.95511,-58.27485 L 89.92737,-58.28543 L 89.93793,-58.30258 L 89.97223,-58.302593 z\" /></g></svg>"
     },
     "execution_count": 3,
     "metadata": {},
     "output_type": "execute_result"
    }
   ],
   "source": [
    "p = Polygon(polygon_shell)\n",
    "p"
   ],
   "metadata": {
    "collapsed": false,
    "ExecuteTime": {
     "end_time": "2023-11-08T07:57:35.108079600Z",
     "start_time": "2023-11-08T07:57:35.101489200Z"
    }
   },
   "id": "e5a34738409c0a7a"
  },
  {
   "cell_type": "code",
   "execution_count": 4,
   "outputs": [
    {
     "data": {
      "text/plain": "array([[ 89.97223 , -58.302593],\n       [ 89.98285 , -58.29493 ],\n       [ 89.97226 , -58.27778 ],\n       [ 89.95511 , -58.27485 ],\n       [ 89.92737 , -58.28543 ],\n       [ 89.93793 , -58.30258 ],\n       [ 89.97223 , -58.302593]])"
     },
     "execution_count": 4,
     "metadata": {},
     "output_type": "execute_result"
    }
   ],
   "source": [
    "exterior_coords = np.asarray(p.exterior.coords)\n",
    "exterior_coords"
   ],
   "metadata": {
    "collapsed": false,
    "ExecuteTime": {
     "end_time": "2023-11-08T07:57:35.113820200Z",
     "start_time": "2023-11-08T07:57:35.106078300Z"
    }
   },
   "id": "4853c29990a5ccb8"
  },
  {
   "cell_type": "markdown",
   "source": [
    "## PolygonArray"
   ],
   "metadata": {
    "collapsed": false
   },
   "id": "3a482e38c725c99c"
  },
  {
   "cell_type": "markdown",
   "source": [
    "### Construction \n",
    "\n",
    "The following snippet shows the constructing of a `PolygonArray` containing three identical polygons"
   ],
   "metadata": {
    "collapsed": false
   },
   "id": "bbfc5046c274f351"
  },
  {
   "cell_type": "code",
   "execution_count": 5,
   "outputs": [],
   "source": [
    "p_arr_shapely = PolygonArray([p, p, p])"
   ],
   "metadata": {
    "collapsed": false,
    "ExecuteTime": {
     "end_time": "2023-11-08T07:57:35.119109100Z",
     "start_time": "2023-11-08T07:57:35.111822300Z"
    }
   },
   "id": "38d79bd38781891d"
  },
  {
   "cell_type": "code",
   "execution_count": 6,
   "outputs": [],
   "source": [
    "p_arr_coords = PolygonArray.from_exterior_coords([exterior_coords, exterior_coords, exterior_coords])"
   ],
   "metadata": {
    "collapsed": false,
    "ExecuteTime": {
     "end_time": "2023-11-08T07:57:35.119109100Z",
     "start_time": "2023-11-08T07:57:35.116969Z"
    }
   },
   "id": "7d5b8c4d9de4e0e3"
  },
  {
   "cell_type": "markdown",
   "source": [
    "We can see the resulting results are equivalent."
   ],
   "metadata": {
    "collapsed": false
   },
   "id": "893cfe97b4165295"
  },
  {
   "cell_type": "code",
   "execution_count": 7,
   "outputs": [
    {
     "data": {
      "text/plain": "True"
     },
     "execution_count": 7,
     "metadata": {},
     "output_type": "execute_result"
    }
   ],
   "source": [
    "np.all(p_arr_shapely == p_arr_coords)"
   ],
   "metadata": {
    "collapsed": false,
    "ExecuteTime": {
     "end_time": "2023-11-08T07:57:35.124095500Z",
     "start_time": "2023-11-08T07:57:35.119109100Z"
    }
   },
   "id": "103c5ee78eca51cb"
  },
  {
   "cell_type": "markdown",
   "source": [
    "### Timing Comparison\n",
    "\n",
    "The main motivation for constructing from exterior coordinates is performance."
   ],
   "metadata": {
    "collapsed": false
   },
   "id": "5fc5c4c8f68b903e"
  },
  {
   "cell_type": "code",
   "execution_count": 8,
   "outputs": [],
   "source": [
    "N = 100000\n",
    "p_list = [p for i in range(N)]\n",
    "exterior_coord_list = [exterior_coords for i in range(N)]"
   ],
   "metadata": {
    "collapsed": false,
    "ExecuteTime": {
     "end_time": "2023-11-08T07:57:35.130307200Z",
     "start_time": "2023-11-08T07:57:35.124095500Z"
    }
   },
   "id": "95daa32f2210a7c0"
  },
  {
   "cell_type": "code",
   "execution_count": 9,
   "outputs": [
    {
     "name": "stdout",
     "output_type": "stream",
     "text": [
      "CPU times: total: 828 ms\n",
      "Wall time: 2.82 s\n"
     ]
    }
   ],
   "source": [
    "%%time\n",
    "p_arr_shapely = PolygonArray(p_list)"
   ],
   "metadata": {
    "collapsed": false,
    "ExecuteTime": {
     "end_time": "2023-11-08T07:57:37.956061400Z",
     "start_time": "2023-11-08T07:57:35.130307200Z"
    }
   },
   "id": "ecf90afd0150e470"
  },
  {
   "cell_type": "code",
   "execution_count": 10,
   "outputs": [
    {
     "name": "stdout",
     "output_type": "stream",
     "text": [
      "CPU times: total: 31.2 ms\n",
      "Wall time: 135 ms\n"
     ]
    }
   ],
   "source": [
    "%%time\n",
    "p_arr_coords = PolygonArray.from_exterior_coords(exterior_coord_list)"
   ],
   "metadata": {
    "collapsed": false,
    "ExecuteTime": {
     "end_time": "2023-11-08T07:57:38.093193500Z",
     "start_time": "2023-11-08T07:57:37.955059200Z"
    }
   },
   "id": "b1b64408519020b6"
  },
  {
   "cell_type": "code",
   "execution_count": 11,
   "outputs": [
    {
     "data": {
      "text/plain": "True"
     },
     "execution_count": 11,
     "metadata": {},
     "output_type": "execute_result"
    }
   ],
   "source": [
    "np.all(p_arr_shapely == p_arr_coords)"
   ],
   "metadata": {
    "collapsed": false,
    "ExecuteTime": {
     "end_time": "2023-11-08T07:57:43.352097100Z",
     "start_time": "2023-11-08T07:57:38.094191700Z"
    }
   },
   "id": "2aa0a144619b90f9"
  },
  {
   "cell_type": "markdown",
   "source": [
    "## MultiPolygonArray\n",
    "\n",
    "We can do the same with a MultiPolygonArray."
   ],
   "metadata": {
    "collapsed": false
   },
   "id": "2a8dcd0309ac1432"
  },
  {
   "cell_type": "code",
   "execution_count": 12,
   "outputs": [],
   "source": [
    "mp = MultiPolygon(polygons=[p, p])"
   ],
   "metadata": {
    "collapsed": false,
    "ExecuteTime": {
     "end_time": "2023-11-08T07:57:43.355143500Z",
     "start_time": "2023-11-08T07:57:43.352097100Z"
    }
   },
   "id": "92ae2e8dba3b6ba5"
  },
  {
   "cell_type": "code",
   "execution_count": 13,
   "outputs": [],
   "source": [
    "mp_arr_shapely = MultiPolygonArray([mp])"
   ],
   "metadata": {
    "collapsed": false,
    "ExecuteTime": {
     "end_time": "2023-11-08T07:57:43.357439600Z",
     "start_time": "2023-11-08T07:57:43.355143500Z"
    }
   },
   "id": "2267ad66c94d426d"
  },
  {
   "cell_type": "code",
   "execution_count": 14,
   "outputs": [],
   "source": [
    "mp_arr_coords = MultiPolygonArray.from_exterior_coords([[exterior_coords, exterior_coords]])"
   ],
   "metadata": {
    "collapsed": false,
    "ExecuteTime": {
     "end_time": "2023-11-08T07:57:43.361949300Z",
     "start_time": "2023-11-08T07:57:43.359440100Z"
    }
   },
   "id": "aebf5e798b15be9c"
  },
  {
   "cell_type": "code",
   "execution_count": 15,
   "outputs": [
    {
     "data": {
      "text/plain": "True"
     },
     "execution_count": 15,
     "metadata": {},
     "output_type": "execute_result"
    }
   ],
   "source": [
    "np.all(mp_arr_shapely == mp_arr_coords)"
   ],
   "metadata": {
    "collapsed": false,
    "ExecuteTime": {
     "end_time": "2023-11-08T07:57:43.368265Z",
     "start_time": "2023-11-08T07:57:43.362952600Z"
    }
   },
   "id": "dcb54a675c1bd3af"
  },
  {
   "cell_type": "code",
   "execution_count": 16,
   "outputs": [],
   "source": [
    "N = 100000\n",
    "mp_list = [mp for i in range(N)]\n",
    "exterior_coord_list = [[exterior_coords, exterior_coords] for i in range(N)]"
   ],
   "metadata": {
    "collapsed": false,
    "ExecuteTime": {
     "end_time": "2023-11-08T07:57:43.414588900Z",
     "start_time": "2023-11-08T07:57:43.366266900Z"
    }
   },
   "id": "a00c5625be68952a"
  },
  {
   "cell_type": "code",
   "execution_count": 17,
   "outputs": [
    {
     "name": "stdout",
     "output_type": "stream",
     "text": [
      "CPU times: total: 1.22 s\n",
      "Wall time: 7.01 s\n"
     ]
    }
   ],
   "source": [
    "%%time\n",
    "mp_arr_shapely = MultiPolygonArray(mp_list)"
   ],
   "metadata": {
    "collapsed": false,
    "ExecuteTime": {
     "end_time": "2023-11-08T07:57:50.426290900Z",
     "start_time": "2023-11-08T07:57:43.415607200Z"
    }
   },
   "id": "6513cbcbe996cc03"
  },
  {
   "cell_type": "code",
   "execution_count": 18,
   "outputs": [
    {
     "name": "stdout",
     "output_type": "stream",
     "text": [
      "CPU times: total: 15.6 ms\n",
      "Wall time: 296 ms\n"
     ]
    }
   ],
   "source": [
    "%%time\n",
    "mp_arr_coords = MultiPolygonArray.from_exterior_coords(exterior_coord_list)"
   ],
   "metadata": {
    "collapsed": false,
    "ExecuteTime": {
     "end_time": "2023-11-08T07:57:50.723795100Z",
     "start_time": "2023-11-08T07:57:50.425283300Z"
    }
   },
   "id": "ccf9eeb58fcdf240"
  },
  {
   "cell_type": "code",
   "execution_count": 19,
   "outputs": [
    {
     "data": {
      "text/plain": "True"
     },
     "execution_count": 19,
     "metadata": {},
     "output_type": "execute_result"
    }
   ],
   "source": [
    "np.all(mp_arr_shapely == mp_arr_coords)"
   ],
   "metadata": {
    "collapsed": false,
    "ExecuteTime": {
     "end_time": "2023-11-08T07:57:58.301932Z",
     "start_time": "2023-11-08T07:57:50.725135Z"
    }
   },
   "id": "fd3dfe6db52368d"
  }
 ],
 "metadata": {
  "kernelspec": {
   "display_name": "Python 3",
   "language": "python",
   "name": "python3"
  },
  "language_info": {
   "codemirror_mode": {
    "name": "ipython",
    "version": 2
   },
   "file_extension": ".py",
   "mimetype": "text/x-python",
   "name": "python",
   "nbconvert_exporter": "python",
   "pygments_lexer": "ipython2",
   "version": "2.7.6"
  }
 },
 "nbformat": 4,
 "nbformat_minor": 5
}
