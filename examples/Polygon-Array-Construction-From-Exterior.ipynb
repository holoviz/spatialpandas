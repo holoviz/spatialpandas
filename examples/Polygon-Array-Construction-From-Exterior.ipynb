{
 "cells": [
  {
   "cell_type": "markdown",
   "source": [
    "# Constructing PolygonArray and MultiPolygonArray From Exterior Coordinates"
   ],
   "metadata": {},
   "id": "2cd5cfcaaec15924"
  },
  {
   "cell_type": "code",
   "execution_count": null,
   "outputs": [],
   "source": [
    "import numpy as np\n",
    "\n",
    "from shapely import Polygon, MultiPolygon\n",
    "from spatialpandas.geometry import PolygonArray, MultiPolygonArray"
   ],
   "metadata": {},
   "id": "3abb9112543deeed"
  },
  {
   "cell_type": "code",
   "execution_count": null,
   "id": "initial_id",
   "metadata": {},
   "outputs": [],
   "source": [
    "polygon_shell = np.array([[89.97223, -58.302593],\n",
    "                          [89.98285, -58.29493],\n",
    "                          [89.97226, -58.27778],\n",
    "                          [89.95511, -58.27485],\n",
    "                          [89.92737, -58.28543],\n",
    "                          [89.93793, -58.30258],\n",
    "                          [89.97223, -58.302593]])"
   ]
  },
  {
   "cell_type": "code",
   "execution_count": null,
   "outputs": [],
   "source": [
    "p = Polygon(polygon_shell)\n",
    "p"
   ],
   "metadata": {},
   "id": "e5a34738409c0a7a"
  },
  {
   "cell_type": "code",
   "execution_count": null,
   "outputs": [],
   "source": [
    "exterior_coords = np.asarray(p.exterior.coords)\n",
    "exterior_coords"
   ],
   "metadata": {},
   "id": "4853c29990a5ccb8"
  },
  {
   "cell_type": "markdown",
   "source": [
    "## PolygonArray"
   ],
   "metadata": {},
   "id": "3a482e38c725c99c"
  },
  {
   "cell_type": "markdown",
   "source": [
    "### Construction \n",
    "\n",
    "The following snippet shows the constructing of a `PolygonArray` containing three identical polygons"
   ],
   "metadata": {},
   "id": "bbfc5046c274f351"
  },
  {
   "cell_type": "code",
   "execution_count": null,
   "outputs": [],
   "source": [
    "p_arr_shapely = PolygonArray([p, p, p])"
   ],
   "metadata": {},
   "id": "38d79bd38781891d"
  },
  {
   "cell_type": "code",
   "execution_count": null,
   "outputs": [],
   "source": [
    "p_arr_coords = PolygonArray.from_exterior_coords([exterior_coords, exterior_coords, exterior_coords])"
   ],
   "metadata": {},
   "id": "7d5b8c4d9de4e0e3"
  },
  {
   "cell_type": "markdown",
   "source": [
    "We can see the resulting results are equivalent."
   ],
   "metadata": {},
   "id": "893cfe97b4165295"
  },
  {
   "cell_type": "code",
   "execution_count": null,
   "outputs": [],
   "source": [
    "np.all(p_arr_shapely == p_arr_coords)"
   ],
   "metadata": {},
   "id": "103c5ee78eca51cb"
  },
  {
   "cell_type": "markdown",
   "source": [
    "### Timing Comparison\n",
    "\n",
    "The main motivation for constructing from exterior coordinates is performance."
   ],
   "metadata": {},
   "id": "5fc5c4c8f68b903e"
  },
  {
   "cell_type": "code",
   "execution_count": null,
   "outputs": [],
   "source": [
    "N = 100000\n",
    "p_list = [p for i in range(N)]\n",
    "exterior_coord_list = [exterior_coords for i in range(N)]"
   ],
   "metadata": {},
   "id": "95daa32f2210a7c0"
  },
  {
   "cell_type": "code",
   "execution_count": null,
   "outputs": [],
   "source": [
    "%%time\n",
    "p_arr_shapely = PolygonArray(p_list)"
   ],
   "metadata": {},
   "id": "ecf90afd0150e470"
  },
  {
   "cell_type": "code",
   "execution_count": null,
   "outputs": [],
   "source": [
    "%%time\n",
    "p_arr_coords = PolygonArray.from_exterior_coords(exterior_coord_list)"
   ],
   "metadata": {},
   "id": "b1b64408519020b6"
  },
  {
   "cell_type": "code",
   "execution_count": null,
   "outputs": [],
   "source": [
    "np.all(p_arr_shapely == p_arr_coords)"
   ],
   "metadata": {},
   "id": "2aa0a144619b90f9"
  },
  {
   "cell_type": "markdown",
   "source": [
    "## MultiPolygonArray\n",
    "\n",
    "We can do the same with a MultiPolygonArray."
   ],
   "metadata": {},
   "id": "2a8dcd0309ac1432"
  },
  {
   "cell_type": "code",
   "execution_count": null,
   "outputs": [],
   "source": [
    "mp = MultiPolygon(polygons=[p, p])"
   ],
   "metadata": {},
   "id": "92ae2e8dba3b6ba5"
  },
  {
   "cell_type": "code",
   "execution_count": null,
   "outputs": [],
   "source": [
    "mp_arr_shapely = MultiPolygonArray([mp])"
   ],
   "metadata": {},
   "id": "2267ad66c94d426d"
  },
  {
   "cell_type": "code",
   "execution_count": null,
   "outputs": [],
   "source": [
    "mp_arr_coords = MultiPolygonArray.from_exterior_coords([[exterior_coords, exterior_coords]])"
   ],
   "metadata": {},
   "id": "aebf5e798b15be9c"
  },
  {
   "cell_type": "code",
   "execution_count": null,
   "outputs": [],
   "source": [
    "np.all(mp_arr_shapely == mp_arr_coords)"
   ],
   "metadata": {},
   "id": "dcb54a675c1bd3af"
  },
  {
   "cell_type": "code",
   "execution_count": null,
   "outputs": [],
   "source": [
    "N = 100000\n",
    "mp_list = [mp for i in range(N)]\n",
    "exterior_coord_list = [[exterior_coords, exterior_coords] for i in range(N)]"
   ],
   "metadata": {},
   "id": "a00c5625be68952a"
  },
  {
   "cell_type": "code",
   "execution_count": null,
   "outputs": [],
   "source": [
    "%%time\n",
    "mp_arr_shapely = MultiPolygonArray(mp_list)"
   ],
   "metadata": {},
   "id": "6513cbcbe996cc03"
  },
  {
   "cell_type": "code",
   "execution_count": null,
   "outputs": [],
   "source": [
    "%%time\n",
    "mp_arr_coords = MultiPolygonArray.from_exterior_coords(exterior_coord_list)"
   ],
   "metadata": {},
   "id": "ccf9eeb58fcdf240"
  },
  {
   "cell_type": "code",
   "execution_count": null,
   "outputs": [],
   "source": [
    "np.all(mp_arr_shapely == mp_arr_coords)"
   ],
   "metadata": {},
   "id": "fd3dfe6db52368d"
  }
 ],
 "metadata": {
  "language_info": {
   "name": "python",
   "pygments_lexer": "ipython3"
  }
 },
 "nbformat": 4,
 "nbformat_minor": 5
}
